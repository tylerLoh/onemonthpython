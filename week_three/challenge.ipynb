{
 "cells": [
  {
   "cell_type": "markdown",
   "metadata": {
    "collapsed": true,
    "pycharm": {
     "name": "#%% md\n"
    }
   },
   "source": [
    "Week three lesson 15 challenge \n",
    "\n",
    "## Challenge Questions:\n",
    "    1. What was the highest scoring movie in 1996?\n",
    "    2. In What year was the highest rated movie of all time made?\n",
    "    3. What five movies have the most votes ever?\n",
    "    4. What year in the 1960s had the highest average movie rating?    "
   ]
  },
  {
   "cell_type": "code",
   "execution_count": 2,
   "outputs": [],
   "source": [
    "import pandas as pd\n",
    "\n"
   ],
   "metadata": {
    "collapsed": false,
    "pycharm": {
     "name": "#%%\n",
     "is_executing": false
    }
   }
  },
  {
   "cell_type": "code",
   "execution_count": 3,
   "outputs": [],
   "source": [
    "name = ['id', 'title', 'year', 'rating', 'votes', 'length', 'genres']\n",
    "data=pd.read_csv('imdb_top_10000.txt', sep=\"\\t\", names=name, index_col=0)\n"
   ],
   "metadata": {
    "collapsed": false,
    "pycharm": {
     "name": "#%%\n",
     "is_executing": false
    }
   }
  },
  {
   "cell_type": "code",
   "execution_count": 44,
   "outputs": [
    {
     "data": {
      "text/plain": "                           title  year  rating   votes     length  \\\nid                                                                  \ntt0116282           Fargo (1996)  1996     8.3  187498   98 mins.   \ntt0116231      The Bandit (1996)  1996     8.3   13288  121 mins.   \ntt0117951   Trainspotting (1996)  1996     8.2  175993   94 mins.   \ntt0117666     Sling Blade (1996)  1996     8.0   44316  135 mins.   \ntt0117589  Secrets & Lies (1996)  1996     8.0   15435  142 mins.   \n\n                                        genres  \nid                                              \ntt0116282                 Crime|Drama|Thriller  \ntt0116231  Action|Crime|Drama|Romance|Thriller  \ntt0117951                          Crime|Drama  \ntt0117666                                Drama  \ntt0117589                         Comedy|Drama  ",
      "text/html": "<div>\n<style scoped>\n    .dataframe tbody tr th:only-of-type {\n        vertical-align: middle;\n    }\n\n    .dataframe tbody tr th {\n        vertical-align: top;\n    }\n\n    .dataframe thead th {\n        text-align: right;\n    }\n</style>\n<table border=\"1\" class=\"dataframe\">\n  <thead>\n    <tr style=\"text-align: right;\">\n      <th></th>\n      <th>title</th>\n      <th>year</th>\n      <th>rating</th>\n      <th>votes</th>\n      <th>length</th>\n      <th>genres</th>\n    </tr>\n    <tr>\n      <th>id</th>\n      <th></th>\n      <th></th>\n      <th></th>\n      <th></th>\n      <th></th>\n      <th></th>\n    </tr>\n  </thead>\n  <tbody>\n    <tr>\n      <th>tt0116282</th>\n      <td>Fargo (1996)</td>\n      <td>1996</td>\n      <td>8.3</td>\n      <td>187498</td>\n      <td>98 mins.</td>\n      <td>Crime|Drama|Thriller</td>\n    </tr>\n    <tr>\n      <th>tt0116231</th>\n      <td>The Bandit (1996)</td>\n      <td>1996</td>\n      <td>8.3</td>\n      <td>13288</td>\n      <td>121 mins.</td>\n      <td>Action|Crime|Drama|Romance|Thriller</td>\n    </tr>\n    <tr>\n      <th>tt0117951</th>\n      <td>Trainspotting (1996)</td>\n      <td>1996</td>\n      <td>8.2</td>\n      <td>175993</td>\n      <td>94 mins.</td>\n      <td>Crime|Drama</td>\n    </tr>\n    <tr>\n      <th>tt0117666</th>\n      <td>Sling Blade (1996)</td>\n      <td>1996</td>\n      <td>8.0</td>\n      <td>44316</td>\n      <td>135 mins.</td>\n      <td>Drama</td>\n    </tr>\n    <tr>\n      <th>tt0117589</th>\n      <td>Secrets &amp; Lies (1996)</td>\n      <td>1996</td>\n      <td>8.0</td>\n      <td>15435</td>\n      <td>142 mins.</td>\n      <td>Comedy|Drama</td>\n    </tr>\n  </tbody>\n</table>\n</div>"
     },
     "metadata": {},
     "output_type": "execute_result",
     "execution_count": 44
    }
   ],
   "source": [
    "# 1\n",
    "data[data['year'] == 1996].sort_values(by='rating', ascending=False).head(5)"
   ],
   "metadata": {
    "collapsed": false,
    "pycharm": {
     "name": "#%%\n",
     "is_executing": false
    }
   }
  },
  {
   "cell_type": "code",
   "execution_count": 49,
   "outputs": [
    {
     "data": {
      "text/plain": "                                     title  year  rating   votes     length  \\\nid                                                                            \ntt0111161  The Shawshank Redemption (1994)  1994     9.2  619479  142 mins.   \ntt0068646             The Godfather (1972)  1972     9.2  474189  175 mins.   \n\n                genres  \nid                      \ntt0111161  Crime|Drama  \ntt0068646  Crime|Drama  ",
      "text/html": "<div>\n<style scoped>\n    .dataframe tbody tr th:only-of-type {\n        vertical-align: middle;\n    }\n\n    .dataframe tbody tr th {\n        vertical-align: top;\n    }\n\n    .dataframe thead th {\n        text-align: right;\n    }\n</style>\n<table border=\"1\" class=\"dataframe\">\n  <thead>\n    <tr style=\"text-align: right;\">\n      <th></th>\n      <th>title</th>\n      <th>year</th>\n      <th>rating</th>\n      <th>votes</th>\n      <th>length</th>\n      <th>genres</th>\n    </tr>\n    <tr>\n      <th>id</th>\n      <th></th>\n      <th></th>\n      <th></th>\n      <th></th>\n      <th></th>\n      <th></th>\n    </tr>\n  </thead>\n  <tbody>\n    <tr>\n      <th>tt0111161</th>\n      <td>The Shawshank Redemption (1994)</td>\n      <td>1994</td>\n      <td>9.2</td>\n      <td>619479</td>\n      <td>142 mins.</td>\n      <td>Crime|Drama</td>\n    </tr>\n    <tr>\n      <th>tt0068646</th>\n      <td>The Godfather (1972)</td>\n      <td>1972</td>\n      <td>9.2</td>\n      <td>474189</td>\n      <td>175 mins.</td>\n      <td>Crime|Drama</td>\n    </tr>\n  </tbody>\n</table>\n</div>"
     },
     "metadata": {},
     "output_type": "execute_result",
     "execution_count": 49
    }
   ],
   "source": [
    "# 2\n",
    "data['rating'].max()\n",
    "# data.sort_values(by='rating', ascending=False)[['year', 'rating', 'title']]\n",
    "data[data['rating'] == data['rating'].max()]"
   ],
   "metadata": {
    "collapsed": false,
    "pycharm": {
     "name": "#%%\n",
     "is_executing": false
    }
   }
  },
  {
   "cell_type": "code",
   "execution_count": 50,
   "outputs": [
    {
     "data": {
      "text/plain": "                                     title   votes\nid                                                \ntt0111161  The Shawshank Redemption (1994)  619479\ntt0468569           The Dark Knight (2008)  555122\ntt0110912              Pulp Fiction (1994)  490065\ntt0068646             The Godfather (1972)  474189\ntt0137523                Fight Club (1999)  458173",
      "text/html": "<div>\n<style scoped>\n    .dataframe tbody tr th:only-of-type {\n        vertical-align: middle;\n    }\n\n    .dataframe tbody tr th {\n        vertical-align: top;\n    }\n\n    .dataframe thead th {\n        text-align: right;\n    }\n</style>\n<table border=\"1\" class=\"dataframe\">\n  <thead>\n    <tr style=\"text-align: right;\">\n      <th></th>\n      <th>title</th>\n      <th>votes</th>\n    </tr>\n    <tr>\n      <th>id</th>\n      <th></th>\n      <th></th>\n    </tr>\n  </thead>\n  <tbody>\n    <tr>\n      <th>tt0111161</th>\n      <td>The Shawshank Redemption (1994)</td>\n      <td>619479</td>\n    </tr>\n    <tr>\n      <th>tt0468569</th>\n      <td>The Dark Knight (2008)</td>\n      <td>555122</td>\n    </tr>\n    <tr>\n      <th>tt0110912</th>\n      <td>Pulp Fiction (1994)</td>\n      <td>490065</td>\n    </tr>\n    <tr>\n      <th>tt0068646</th>\n      <td>The Godfather (1972)</td>\n      <td>474189</td>\n    </tr>\n    <tr>\n      <th>tt0137523</th>\n      <td>Fight Club (1999)</td>\n      <td>458173</td>\n    </tr>\n  </tbody>\n</table>\n</div>"
     },
     "metadata": {},
     "output_type": "execute_result",
     "execution_count": 50
    }
   ],
   "source": [
    "# 3\n",
    "data.sort_values(by='votes', ascending=False)[['title', 'votes']].head(5)"
   ],
   "metadata": {
    "collapsed": false,
    "pycharm": {
     "name": "#%%\n",
     "is_executing": false
    }
   }
  },
  {
   "cell_type": "code",
   "execution_count": 81,
   "outputs": [
    {
     "data": {
      "text/plain": "year\n1962    7.349057\nName: rating, dtype: float64"
     },
     "metadata": {},
     "output_type": "execute_result",
     "execution_count": 81
    }
   ],
   "source": [
    "ret = data[(data['year'] >= 1960) & (data['year'] < 1970)]\n",
    "ret.groupby(data['year'])['rating'].mean().sort_values(ascending=False).head(1)\n"
   ],
   "metadata": {
    "collapsed": false,
    "pycharm": {
     "name": "#%%\n",
     "is_executing": false
    }
   }
  },
  {
   "cell_type": "code",
   "execution_count": null,
   "outputs": [],
   "source": [
    "\n"
   ],
   "metadata": {
    "collapsed": false,
    "pycharm": {
     "name": "#%%\n"
    }
   }
  }
 ],
 "metadata": {
  "kernelspec": {
   "name": "python3",
   "language": "python",
   "display_name": "Python 3"
  },
  "language_info": {
   "codemirror_mode": {
    "name": "ipython",
    "version": 2
   },
   "file_extension": ".py",
   "mimetype": "text/x-python",
   "name": "python",
   "nbconvert_exporter": "python",
   "pygments_lexer": "ipython2",
   "version": "2.7.6"
  },
  "pycharm": {
   "stem_cell": {
    "cell_type": "raw",
    "source": [],
    "metadata": {
     "collapsed": false
    }
   }
  }
 },
 "nbformat": 4,
 "nbformat_minor": 0
}