{
 "cells": [
  {
   "cell_type": "markdown",
   "metadata": {},
   "source": [
    "## import Pandas"
   ]
  },
  {
   "cell_type": "code",
   "execution_count": 13,
   "metadata": {
    "pycharm": {
     "is_executing": false
    }
   },
   "outputs": [],
   "source": [
    "import pandas as pd"
   ]
  },
  {
   "cell_type": "markdown",
   "metadata": {},
   "source": [
    "## importing Data"
   ]
  },
  {
   "cell_type": "code",
   "execution_count": 14,
   "metadata": {
    "pycharm": {
     "is_executing": false
    }
   },
   "outputs": [],
   "source": [
    "name = ['id', 'title', 'year', 'rating', 'votes', 'length', 'genres']\n",
    "data=pd.read_csv('imdb_top_10000.txt', sep=\"\\t\", names=name, index_col=0)"
   ]
  },
  {
   "cell_type": "code",
   "execution_count": 15,
   "metadata": {
    "pycharm": {
     "is_executing": false,
     "name": "#%%\n"
    }
   },
   "outputs": [
    {
     "data": {
      "text/plain": "                                     title  year  rating   votes     length  \\\nid                                                                            \ntt0111161  The Shawshank Redemption (1994)  1994     9.2  619479  142 mins.   \ntt0110912              Pulp Fiction (1994)  1994     9.0  490065  154 mins.   \ntt0137523                Fight Club (1999)  1999     8.8  458173  139 mins.   \ntt0133093                The Matrix (1999)  1999     8.7  448114  136 mins.   \ntt1375666                 Inception (2010)  2010     8.9  385149  148 mins.   \n\n                                     genres  \nid                                           \ntt0111161                       Crime|Drama  \ntt0110912                    Crime|Thriller  \ntt0137523            Drama|Mystery|Thriller  \ntt0133093           Action|Adventure|Sci-Fi  \ntt1375666  Action|Adventure|Sci-Fi|Thriller  ",
      "text/html": "<div>\n<style scoped>\n    .dataframe tbody tr th:only-of-type {\n        vertical-align: middle;\n    }\n\n    .dataframe tbody tr th {\n        vertical-align: top;\n    }\n\n    .dataframe thead th {\n        text-align: right;\n    }\n</style>\n<table border=\"1\" class=\"dataframe\">\n  <thead>\n    <tr style=\"text-align: right;\">\n      <th></th>\n      <th>title</th>\n      <th>year</th>\n      <th>rating</th>\n      <th>votes</th>\n      <th>length</th>\n      <th>genres</th>\n    </tr>\n    <tr>\n      <th>id</th>\n      <th></th>\n      <th></th>\n      <th></th>\n      <th></th>\n      <th></th>\n      <th></th>\n    </tr>\n  </thead>\n  <tbody>\n    <tr>\n      <th>tt0111161</th>\n      <td>The Shawshank Redemption (1994)</td>\n      <td>1994</td>\n      <td>9.2</td>\n      <td>619479</td>\n      <td>142 mins.</td>\n      <td>Crime|Drama</td>\n    </tr>\n    <tr>\n      <th>tt0110912</th>\n      <td>Pulp Fiction (1994)</td>\n      <td>1994</td>\n      <td>9.0</td>\n      <td>490065</td>\n      <td>154 mins.</td>\n      <td>Crime|Thriller</td>\n    </tr>\n    <tr>\n      <th>tt0137523</th>\n      <td>Fight Club (1999)</td>\n      <td>1999</td>\n      <td>8.8</td>\n      <td>458173</td>\n      <td>139 mins.</td>\n      <td>Drama|Mystery|Thriller</td>\n    </tr>\n    <tr>\n      <th>tt0133093</th>\n      <td>The Matrix (1999)</td>\n      <td>1999</td>\n      <td>8.7</td>\n      <td>448114</td>\n      <td>136 mins.</td>\n      <td>Action|Adventure|Sci-Fi</td>\n    </tr>\n    <tr>\n      <th>tt1375666</th>\n      <td>Inception (2010)</td>\n      <td>2010</td>\n      <td>8.9</td>\n      <td>385149</td>\n      <td>148 mins.</td>\n      <td>Action|Adventure|Sci-Fi|Thriller</td>\n    </tr>\n  </tbody>\n</table>\n</div>"
     },
     "metadata": {},
     "output_type": "execute_result",
     "execution_count": 15
    }
   ],
   "source": [
    "data.head()"
   ]
  },
  {
   "cell_type": "code",
   "execution_count": 16,
   "metadata": {
    "pycharm": {
     "is_executing": false,
     "name": "#%%\n"
    }
   },
   "outputs": [
    {
     "data": {
      "text/plain": "                                     title  year  rating   votes     length  \\\nid                                                                            \ntt0111161  The Shawshank Redemption (1994)  1994     9.2  619479  142 mins.   \ntt0110912              Pulp Fiction (1994)  1994     9.0  490065  154 mins.   \ntt0137523                Fight Club (1999)  1999     8.8  458173  139 mins.   \n\n                           genres  \nid                                 \ntt0111161             Crime|Drama  \ntt0110912          Crime|Thriller  \ntt0137523  Drama|Mystery|Thriller  ",
      "text/html": "<div>\n<style scoped>\n    .dataframe tbody tr th:only-of-type {\n        vertical-align: middle;\n    }\n\n    .dataframe tbody tr th {\n        vertical-align: top;\n    }\n\n    .dataframe thead th {\n        text-align: right;\n    }\n</style>\n<table border=\"1\" class=\"dataframe\">\n  <thead>\n    <tr style=\"text-align: right;\">\n      <th></th>\n      <th>title</th>\n      <th>year</th>\n      <th>rating</th>\n      <th>votes</th>\n      <th>length</th>\n      <th>genres</th>\n    </tr>\n    <tr>\n      <th>id</th>\n      <th></th>\n      <th></th>\n      <th></th>\n      <th></th>\n      <th></th>\n      <th></th>\n    </tr>\n  </thead>\n  <tbody>\n    <tr>\n      <th>tt0111161</th>\n      <td>The Shawshank Redemption (1994)</td>\n      <td>1994</td>\n      <td>9.2</td>\n      <td>619479</td>\n      <td>142 mins.</td>\n      <td>Crime|Drama</td>\n    </tr>\n    <tr>\n      <th>tt0110912</th>\n      <td>Pulp Fiction (1994)</td>\n      <td>1994</td>\n      <td>9.0</td>\n      <td>490065</td>\n      <td>154 mins.</td>\n      <td>Crime|Thriller</td>\n    </tr>\n    <tr>\n      <th>tt0137523</th>\n      <td>Fight Club (1999)</td>\n      <td>1999</td>\n      <td>8.8</td>\n      <td>458173</td>\n      <td>139 mins.</td>\n      <td>Drama|Mystery|Thriller</td>\n    </tr>\n  </tbody>\n</table>\n</div>"
     },
     "metadata": {},
     "output_type": "execute_result",
     "execution_count": 16
    }
   ],
   "source": [
    "data.head(3)"
   ]
  },
  {
   "cell_type": "code",
   "execution_count": 17,
   "metadata": {
    "pycharm": {
     "name": "#%%\n",
     "is_executing": false
    }
   },
   "outputs": [
    {
     "data": {
      "text/plain": "                                   title  year  rating  votes     length  \\\nid                                                                         \ntt0807721                 Meduzot (2007)  2007     7.0   1357   78 mins.   \ntt0339642          Daltry Calhoun (2005)  2005     5.2   1357  100 mins.   \ntt0060880  The Quiller Memorandum (1966)  1966     6.5   1356  104 mins.   \ntt0152836                    Taal (1999)  1999     6.5   1356  179 mins.   \ntt0279977          The Navigators (2001)  2001     6.9   1356   96 mins.   \n\n                               genres  \nid                                     \ntt0807721                       Drama  \ntt0339642  Comedy|Drama|Music|Romance  \ntt0060880      Drama|Mystery|Thriller  \ntt0152836             Musical|Romance  \ntt0279977                Comedy|Drama  ",
      "text/html": "<div>\n<style scoped>\n    .dataframe tbody tr th:only-of-type {\n        vertical-align: middle;\n    }\n\n    .dataframe tbody tr th {\n        vertical-align: top;\n    }\n\n    .dataframe thead th {\n        text-align: right;\n    }\n</style>\n<table border=\"1\" class=\"dataframe\">\n  <thead>\n    <tr style=\"text-align: right;\">\n      <th></th>\n      <th>title</th>\n      <th>year</th>\n      <th>rating</th>\n      <th>votes</th>\n      <th>length</th>\n      <th>genres</th>\n    </tr>\n    <tr>\n      <th>id</th>\n      <th></th>\n      <th></th>\n      <th></th>\n      <th></th>\n      <th></th>\n      <th></th>\n    </tr>\n  </thead>\n  <tbody>\n    <tr>\n      <th>tt0807721</th>\n      <td>Meduzot (2007)</td>\n      <td>2007</td>\n      <td>7.0</td>\n      <td>1357</td>\n      <td>78 mins.</td>\n      <td>Drama</td>\n    </tr>\n    <tr>\n      <th>tt0339642</th>\n      <td>Daltry Calhoun (2005)</td>\n      <td>2005</td>\n      <td>5.2</td>\n      <td>1357</td>\n      <td>100 mins.</td>\n      <td>Comedy|Drama|Music|Romance</td>\n    </tr>\n    <tr>\n      <th>tt0060880</th>\n      <td>The Quiller Memorandum (1966)</td>\n      <td>1966</td>\n      <td>6.5</td>\n      <td>1356</td>\n      <td>104 mins.</td>\n      <td>Drama|Mystery|Thriller</td>\n    </tr>\n    <tr>\n      <th>tt0152836</th>\n      <td>Taal (1999)</td>\n      <td>1999</td>\n      <td>6.5</td>\n      <td>1356</td>\n      <td>179 mins.</td>\n      <td>Musical|Romance</td>\n    </tr>\n    <tr>\n      <th>tt0279977</th>\n      <td>The Navigators (2001)</td>\n      <td>2001</td>\n      <td>6.9</td>\n      <td>1356</td>\n      <td>96 mins.</td>\n      <td>Comedy|Drama</td>\n    </tr>\n  </tbody>\n</table>\n</div>"
     },
     "metadata": {},
     "output_type": "execute_result",
     "execution_count": 17
    }
   ],
   "source": [
    "data.tail()\n"
   ]
  },
  {
   "cell_type": "code",
   "execution_count": 18,
   "metadata": {
    "pycharm": {
     "is_executing": false
    }
   },
   "outputs": [
    {
     "name": "stdout",
     "text": [
      "<class 'pandas.core.frame.DataFrame'>\n",
      "Index: 10000 entries, tt0111161 to tt0279977\n",
      "Data columns (total 6 columns):\n",
      "title     10000 non-null object\n",
      "year      10000 non-null int64\n",
      "rating    10000 non-null float64\n",
      "votes     10000 non-null int64\n",
      "length    10000 non-null object\n",
      "genres    9999 non-null object\n",
      "dtypes: float64(1), int64(2), object(3)\n",
      "memory usage: 546.9+ KB\n"
     ],
     "output_type": "stream"
    }
   ],
   "source": [
    "data.info()"
   ]
  },
  {
   "cell_type": "code",
   "execution_count": 19,
   "metadata": {
    "pycharm": {
     "is_executing": false
    }
   },
   "outputs": [
    {
     "data": {
      "text/plain": "               year        rating          votes\ncount  10000.000000  10000.000000   10000.000000\nmean    1993.472800      6.386070   16604.012800\nstd       14.829924      1.189933   34563.459698\nmin     1950.000000      1.500000    1356.000000\n25%     1986.000000      5.700000    2333.750000\n50%     1998.000000      6.600000    4980.500000\n75%     2005.000000      7.200000   15277.750000\nmax     2011.000000      9.200000  619479.000000",
      "text/html": "<div>\n<style scoped>\n    .dataframe tbody tr th:only-of-type {\n        vertical-align: middle;\n    }\n\n    .dataframe tbody tr th {\n        vertical-align: top;\n    }\n\n    .dataframe thead th {\n        text-align: right;\n    }\n</style>\n<table border=\"1\" class=\"dataframe\">\n  <thead>\n    <tr style=\"text-align: right;\">\n      <th></th>\n      <th>year</th>\n      <th>rating</th>\n      <th>votes</th>\n    </tr>\n  </thead>\n  <tbody>\n    <tr>\n      <th>count</th>\n      <td>10000.000000</td>\n      <td>10000.000000</td>\n      <td>10000.000000</td>\n    </tr>\n    <tr>\n      <th>mean</th>\n      <td>1993.472800</td>\n      <td>6.386070</td>\n      <td>16604.012800</td>\n    </tr>\n    <tr>\n      <th>std</th>\n      <td>14.829924</td>\n      <td>1.189933</td>\n      <td>34563.459698</td>\n    </tr>\n    <tr>\n      <th>min</th>\n      <td>1950.000000</td>\n      <td>1.500000</td>\n      <td>1356.000000</td>\n    </tr>\n    <tr>\n      <th>25%</th>\n      <td>1986.000000</td>\n      <td>5.700000</td>\n      <td>2333.750000</td>\n    </tr>\n    <tr>\n      <th>50%</th>\n      <td>1998.000000</td>\n      <td>6.600000</td>\n      <td>4980.500000</td>\n    </tr>\n    <tr>\n      <th>75%</th>\n      <td>2005.000000</td>\n      <td>7.200000</td>\n      <td>15277.750000</td>\n    </tr>\n    <tr>\n      <th>max</th>\n      <td>2011.000000</td>\n      <td>9.200000</td>\n      <td>619479.000000</td>\n    </tr>\n  </tbody>\n</table>\n</div>"
     },
     "metadata": {},
     "output_type": "execute_result",
     "execution_count": 19
    }
   ],
   "source": [
    "data.describe()"
   ]
  },
  {
   "cell_type": "markdown",
   "metadata": {},
   "source": [
    "## Exporting Data"
   ]
  },
  {
   "cell_type": "code",
   "execution_count": 20,
   "metadata": {
    "pycharm": {
     "is_executing": false
    }
   },
   "outputs": [],
   "source": [
    "data.to_csv('test.csv', header=True, index=True, sep=\",\")"
   ]
  },
  {
   "cell_type": "markdown",
   "metadata": {},
   "source": [
    "## Sorting Data"
   ]
  },
  {
   "cell_type": "code",
   "execution_count": 21,
   "metadata": {
    "pycharm": {
     "is_executing": false
    }
   },
   "outputs": [
    {
     "data": {
      "text/plain": "                                           title  year  rating   votes  \\\nid                                                                       \ntt0270846    Superbabies: Baby Geniuses 2 (2004)  2004     1.5   13196   \ntt0059464                 Monster a-Go Go (1965)  1965     1.5    3255   \ntt0364986                    Ben & Arthur (2002)  2002     1.5    4675   \ntt0421051               Daniel the Wizard (2004)  2004     1.5    8271   \ntt1309000                      Dream Well (2009)  2009     1.5    2848   \n...                                          ...   ...     ...     ...   \ntt0071562          The Godfather: Part II (1974)  1974     9.0  291169   \ntt0060196  The Good, the Bad and the Ugly (1966)  1966     9.0  195238   \ntt0110912                    Pulp Fiction (1994)  1994     9.0  490065   \ntt0068646                   The Godfather (1972)  1972     9.2  474189   \ntt0111161        The Shawshank Redemption (1994)  1994     9.2  619479   \n\n              length                              genres  \nid                                                        \ntt0270846   88 mins.                       Comedy|Family  \ntt0059464   70 mins.                       Sci-Fi|Horror  \ntt0364986   85 mins.                       Drama|Romance  \ntt0421051   81 mins.  Comedy|Crime|Family|Fantasy|Horror  \ntt1309000   00 mins.                Comedy|Romance|Sport  \n...              ...                                 ...  \ntt0071562  200 mins.                         Crime|Drama  \ntt0060196  161 mins.                             Western  \ntt0110912  154 mins.                      Crime|Thriller  \ntt0068646  175 mins.                         Crime|Drama  \ntt0111161  142 mins.                         Crime|Drama  \n\n[10000 rows x 6 columns]",
      "text/html": "<div>\n<style scoped>\n    .dataframe tbody tr th:only-of-type {\n        vertical-align: middle;\n    }\n\n    .dataframe tbody tr th {\n        vertical-align: top;\n    }\n\n    .dataframe thead th {\n        text-align: right;\n    }\n</style>\n<table border=\"1\" class=\"dataframe\">\n  <thead>\n    <tr style=\"text-align: right;\">\n      <th></th>\n      <th>title</th>\n      <th>year</th>\n      <th>rating</th>\n      <th>votes</th>\n      <th>length</th>\n      <th>genres</th>\n    </tr>\n    <tr>\n      <th>id</th>\n      <th></th>\n      <th></th>\n      <th></th>\n      <th></th>\n      <th></th>\n      <th></th>\n    </tr>\n  </thead>\n  <tbody>\n    <tr>\n      <th>tt0270846</th>\n      <td>Superbabies: Baby Geniuses 2 (2004)</td>\n      <td>2004</td>\n      <td>1.5</td>\n      <td>13196</td>\n      <td>88 mins.</td>\n      <td>Comedy|Family</td>\n    </tr>\n    <tr>\n      <th>tt0059464</th>\n      <td>Monster a-Go Go (1965)</td>\n      <td>1965</td>\n      <td>1.5</td>\n      <td>3255</td>\n      <td>70 mins.</td>\n      <td>Sci-Fi|Horror</td>\n    </tr>\n    <tr>\n      <th>tt0364986</th>\n      <td>Ben &amp; Arthur (2002)</td>\n      <td>2002</td>\n      <td>1.5</td>\n      <td>4675</td>\n      <td>85 mins.</td>\n      <td>Drama|Romance</td>\n    </tr>\n    <tr>\n      <th>tt0421051</th>\n      <td>Daniel the Wizard (2004)</td>\n      <td>2004</td>\n      <td>1.5</td>\n      <td>8271</td>\n      <td>81 mins.</td>\n      <td>Comedy|Crime|Family|Fantasy|Horror</td>\n    </tr>\n    <tr>\n      <th>tt1309000</th>\n      <td>Dream Well (2009)</td>\n      <td>2009</td>\n      <td>1.5</td>\n      <td>2848</td>\n      <td>00 mins.</td>\n      <td>Comedy|Romance|Sport</td>\n    </tr>\n    <tr>\n      <th>...</th>\n      <td>...</td>\n      <td>...</td>\n      <td>...</td>\n      <td>...</td>\n      <td>...</td>\n      <td>...</td>\n    </tr>\n    <tr>\n      <th>tt0071562</th>\n      <td>The Godfather: Part II (1974)</td>\n      <td>1974</td>\n      <td>9.0</td>\n      <td>291169</td>\n      <td>200 mins.</td>\n      <td>Crime|Drama</td>\n    </tr>\n    <tr>\n      <th>tt0060196</th>\n      <td>The Good, the Bad and the Ugly (1966)</td>\n      <td>1966</td>\n      <td>9.0</td>\n      <td>195238</td>\n      <td>161 mins.</td>\n      <td>Western</td>\n    </tr>\n    <tr>\n      <th>tt0110912</th>\n      <td>Pulp Fiction (1994)</td>\n      <td>1994</td>\n      <td>9.0</td>\n      <td>490065</td>\n      <td>154 mins.</td>\n      <td>Crime|Thriller</td>\n    </tr>\n    <tr>\n      <th>tt0068646</th>\n      <td>The Godfather (1972)</td>\n      <td>1972</td>\n      <td>9.2</td>\n      <td>474189</td>\n      <td>175 mins.</td>\n      <td>Crime|Drama</td>\n    </tr>\n    <tr>\n      <th>tt0111161</th>\n      <td>The Shawshank Redemption (1994)</td>\n      <td>1994</td>\n      <td>9.2</td>\n      <td>619479</td>\n      <td>142 mins.</td>\n      <td>Crime|Drama</td>\n    </tr>\n  </tbody>\n</table>\n<p>10000 rows × 6 columns</p>\n</div>"
     },
     "metadata": {},
     "output_type": "execute_result",
     "execution_count": 21
    }
   ],
   "source": [
    "data.sort_values(by='rating')"
   ]
  },
  {
   "cell_type": "code",
   "execution_count": 22,
   "metadata": {
    "pycharm": {
     "is_executing": false
    }
   },
   "outputs": [
    {
     "data": {
      "text/plain": "                                           title  year  rating   votes  \\\nid                                                                       \ntt0111161        The Shawshank Redemption (1994)  1994     9.2  619479   \ntt0068646                   The Godfather (1972)  1972     9.2  474189   \ntt0060196  The Good, the Bad and the Ugly (1966)  1966     9.0  195238   \ntt0110912                    Pulp Fiction (1994)  1994     9.0  490065   \ntt0252487                Outrageous Class (1975)  1975     9.0    9823   \n...                                          ...   ...     ...     ...   \ntt0364986                    Ben & Arthur (2002)  2002     1.5    4675   \ntt0060753       Night Train to Mundo Fine (1966)  1966     1.5    3542   \ntt0421051               Daniel the Wizard (2004)  2004     1.5    8271   \ntt0059464                 Monster a-Go Go (1965)  1965     1.5    3255   \ntt0060666        Manos: The Hands of Fate (1966)  1966     1.5   20927   \n\n              length                              genres  \nid                                                        \ntt0111161  142 mins.                         Crime|Drama  \ntt0068646  175 mins.                         Crime|Drama  \ntt0060196  161 mins.                             Western  \ntt0110912  154 mins.                      Crime|Thriller  \ntt0252487   87 mins.                        Comedy|Drama  \n...              ...                                 ...  \ntt0364986   85 mins.                       Drama|Romance  \ntt0060753   89 mins.          Action|Adventure|Crime|War  \ntt0421051   81 mins.  Comedy|Crime|Family|Fantasy|Horror  \ntt0059464   70 mins.                       Sci-Fi|Horror  \ntt0060666   74 mins.                              Horror  \n\n[10000 rows x 6 columns]",
      "text/html": "<div>\n<style scoped>\n    .dataframe tbody tr th:only-of-type {\n        vertical-align: middle;\n    }\n\n    .dataframe tbody tr th {\n        vertical-align: top;\n    }\n\n    .dataframe thead th {\n        text-align: right;\n    }\n</style>\n<table border=\"1\" class=\"dataframe\">\n  <thead>\n    <tr style=\"text-align: right;\">\n      <th></th>\n      <th>title</th>\n      <th>year</th>\n      <th>rating</th>\n      <th>votes</th>\n      <th>length</th>\n      <th>genres</th>\n    </tr>\n    <tr>\n      <th>id</th>\n      <th></th>\n      <th></th>\n      <th></th>\n      <th></th>\n      <th></th>\n      <th></th>\n    </tr>\n  </thead>\n  <tbody>\n    <tr>\n      <th>tt0111161</th>\n      <td>The Shawshank Redemption (1994)</td>\n      <td>1994</td>\n      <td>9.2</td>\n      <td>619479</td>\n      <td>142 mins.</td>\n      <td>Crime|Drama</td>\n    </tr>\n    <tr>\n      <th>tt0068646</th>\n      <td>The Godfather (1972)</td>\n      <td>1972</td>\n      <td>9.2</td>\n      <td>474189</td>\n      <td>175 mins.</td>\n      <td>Crime|Drama</td>\n    </tr>\n    <tr>\n      <th>tt0060196</th>\n      <td>The Good, the Bad and the Ugly (1966)</td>\n      <td>1966</td>\n      <td>9.0</td>\n      <td>195238</td>\n      <td>161 mins.</td>\n      <td>Western</td>\n    </tr>\n    <tr>\n      <th>tt0110912</th>\n      <td>Pulp Fiction (1994)</td>\n      <td>1994</td>\n      <td>9.0</td>\n      <td>490065</td>\n      <td>154 mins.</td>\n      <td>Crime|Thriller</td>\n    </tr>\n    <tr>\n      <th>tt0252487</th>\n      <td>Outrageous Class (1975)</td>\n      <td>1975</td>\n      <td>9.0</td>\n      <td>9823</td>\n      <td>87 mins.</td>\n      <td>Comedy|Drama</td>\n    </tr>\n    <tr>\n      <th>...</th>\n      <td>...</td>\n      <td>...</td>\n      <td>...</td>\n      <td>...</td>\n      <td>...</td>\n      <td>...</td>\n    </tr>\n    <tr>\n      <th>tt0364986</th>\n      <td>Ben &amp; Arthur (2002)</td>\n      <td>2002</td>\n      <td>1.5</td>\n      <td>4675</td>\n      <td>85 mins.</td>\n      <td>Drama|Romance</td>\n    </tr>\n    <tr>\n      <th>tt0060753</th>\n      <td>Night Train to Mundo Fine (1966)</td>\n      <td>1966</td>\n      <td>1.5</td>\n      <td>3542</td>\n      <td>89 mins.</td>\n      <td>Action|Adventure|Crime|War</td>\n    </tr>\n    <tr>\n      <th>tt0421051</th>\n      <td>Daniel the Wizard (2004)</td>\n      <td>2004</td>\n      <td>1.5</td>\n      <td>8271</td>\n      <td>81 mins.</td>\n      <td>Comedy|Crime|Family|Fantasy|Horror</td>\n    </tr>\n    <tr>\n      <th>tt0059464</th>\n      <td>Monster a-Go Go (1965)</td>\n      <td>1965</td>\n      <td>1.5</td>\n      <td>3255</td>\n      <td>70 mins.</td>\n      <td>Sci-Fi|Horror</td>\n    </tr>\n    <tr>\n      <th>tt0060666</th>\n      <td>Manos: The Hands of Fate (1966)</td>\n      <td>1966</td>\n      <td>1.5</td>\n      <td>20927</td>\n      <td>74 mins.</td>\n      <td>Horror</td>\n    </tr>\n  </tbody>\n</table>\n<p>10000 rows × 6 columns</p>\n</div>"
     },
     "metadata": {},
     "output_type": "execute_result",
     "execution_count": 22
    }
   ],
   "source": [
    "data.sort_values(by='rating', ascending=False)"
   ]
  },
  {
   "cell_type": "code",
   "execution_count": 22,
   "metadata": {
    "pycharm": {
     "name": "#%%\n",
     "is_executing": false
    }
   },
   "outputs": [],
   "source": [
    "\n"
   ]
  }
 ],
 "metadata": {
  "kernelspec": {
   "display_name": "Python 3",
   "language": "python",
   "name": "python3"
  },
  "language_info": {
   "codemirror_mode": {
    "name": "ipython",
    "version": 3
   },
   "file_extension": ".py",
   "mimetype": "text/x-python",
   "name": "python",
   "nbconvert_exporter": "python",
   "pygments_lexer": "ipython3",
   "version": "3.7.5"
  },
  "pycharm": {
   "stem_cell": {
    "cell_type": "raw",
    "source": [],
    "metadata": {
     "collapsed": false
    }
   }
  }
 },
 "nbformat": 4,
 "nbformat_minor": 2
}